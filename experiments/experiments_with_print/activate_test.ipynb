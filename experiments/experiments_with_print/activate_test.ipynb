{
 "cells": [
  {
   "cell_type": "markdown",
   "metadata": {},
   "source": [
    "### 加载数据集"
   ]
  },
  {
   "cell_type": "code",
   "execution_count": null,
   "metadata": {},
   "outputs": [
    {
     "name": "stdout",
     "output_type": "stream",
     "text": [
      "Using device: cuda:7\n",
      "CIFAR-10 path: /home/jzgrp/huiwang/mio/Code/KAN/datasets/CIFAR10\n",
      "MNIST path: /home/jzgrp/huiwang/mio/Code/KAN/datasets/mnist\n"
     ]
    }
   ],
   "source": [
    "import sys\n",
    "sys.path.append('../../')\n",
    "\n",
    "\n",
    "from datasets.datasets import DatasetManager\n",
    "\n",
    "dataset_manager = DatasetManager(batch_size=2048)\n",
    "# train_loader, test_loader = dataset_manager.cifar_dataset()\n",
    "train_loader, test_loader = dataset_manager.mnist_dataset()"
   ]
  },
  {
   "cell_type": "markdown",
   "metadata": {},
   "source": [
    "### 加载模型"
   ]
  },
  {
   "cell_type": "code",
   "execution_count": null,
   "metadata": {},
   "outputs": [
    {
     "data": {
      "text/plain": [
       "device(type='cuda', index=7)"
      ]
     },
     "metadata": {},
     "output_type": "display_data"
    }
   ],
   "source": [
    "device = torch.device(\"cuda:7\" if torch.cuda.is_available() else \"cpu\")\n",
    "device"
   ]
  },
  {
   "cell_type": "code",
   "execution_count": null,
   "metadata": {},
   "outputs": [],
   "source": [
    "import numpy as np\n",
    "import torch\n",
    "import torch.nn as nn\n",
    "import torch.optim as optim\n",
    "# from torchmetrics import Accuracy\n",
    "import torch.nn.functional as F\n",
    "from models.models import ModelManager \n",
    "\n",
    "model_manager = ModelManager()\n",
    "\n",
    "\n",
    "\n",
    "class KANKANReLU(nn.Module):\n",
    "    def __init__(self):\n",
    "        super(KANKANReLU, self).__init__()\n",
    "        self.kan1 = model_manager.KANLinear(28*28, 32, base_activation=nn.ReLU)\n",
    "        self.kan2 = model_manager.KANLinear(32, 10, base_activation=nn.ReLU)\n",
    "        # self.kan3 = model_manager.KANLinear(32, 10)\n",
    "\n",
    "    def forward(self, x):\n",
    "        x = x.view(x.size(0), -1)  # 展开图像为一维向量\n",
    "        x = self.kan1(x)\n",
    "        x = self.kan2(x)\n",
    "        # x = self.kan3(x)\n",
    "        return x\n",
    "    \n",
    "class KANKANGELU(nn.Module):\n",
    "    def __init__(self):\n",
    "        super(KANKANGELU, self).__init__()\n",
    "        self.kan1 = model_manager.KANLinear(28*28, 32, base_activation=nn.GELU)\n",
    "        self.kan2 = model_manager.KANLinear(32, 10, base_activation=nn.GELU)\n",
    "        # self.kan3 = model_manager.KANLinear(32, 10)\n",
    "\n",
    "    def forward(self, x):\n",
    "        x = x.view(x.size(0), -1)  # 展开图像为一维向量\n",
    "        x = self.kan1(x)\n",
    "        x = self.kan2(x)\n",
    "        # x = self.kan3(x)\n",
    "        return x\n",
    "\n",
    "class KANKANMish(nn.Module):\n",
    "    def __init__(self):\n",
    "        super(KANKANMish, self).__init__()\n",
    "        self.kan1 = model_manager.KANLinear(28*28, 32, base_activation=nn.Mish)\n",
    "        self.kan2 = model_manager.KANLinear(32, 10, base_activation=nn.Mish)\n",
    "        # self.kan3 = model_manager.KANLinear(32, 10)\n",
    "\n",
    "    def forward(self, x):\n",
    "        x = x.view(x.size(0), -1)  # 展开图像为一维向量\n",
    "        x = self.kan1(x)\n",
    "        x = self.kan2(x)\n",
    "        # x = self.kan3(x)\n",
    "        return x"
   ]
  },
  {
   "cell_type": "code",
   "execution_count": null,
   "metadata": {},
   "outputs": [],
   "source": [
    "\n",
    "from torchinfo import summary\n",
    "import os\n",
    "\n",
    "\n",
    "model_test = \"KANKANReLU\"\n",
    "\n",
    "model = KANKANReLU().to(device)  # Use 'cuda' for GPU\n",
    "# model = KANKANGELU().to(device)  # Use 'cuda' for GPU\n",
    "# model = KANKANMish().to(device)  # Use 'cuda' for GPU\n",
    "# model = KANKAN().to(device)  # Use 'cuda' for GPU\n",
    "# model = MLPMLP().to(device)  # Use 'cuda' for GPU\n",
    "\n",
    "\n",
    "optimizer = optim.LBFGS(model.parameters(), lr=0.01)  # Reduced learning rate from 0.1 to 0.01\n",
    "\n",
    "# 使用torchsummary输出模型结构\n",
    "print(summary(model, input_size=(128, 1, 28, 28)))  # 输入特征为128维\n",
    "# print(summary(model, input_size=(128, 1, 28, 28)))  # 输入特征为128维\n",
    "\n",
    "if not os.path.exists(f\"../../weights/{model_test}/\"):\n",
    "    os.makedirs(f\"../../weights/{model_test}/\")\n"
   ]
  },
  {
   "cell_type": "markdown",
   "metadata": {},
   "source": [
    "### 训练(利用预训练模型可只执行第一步然后跳去评估部分)"
   ]
  },
  {
   "cell_type": "code",
   "execution_count": null,
   "metadata": {},
   "outputs": [],
   "source": [
    "from weights.weights import WeightManager\n",
    "weight_manager = WeightManager()"
   ]
  },
  {
   "cell_type": "code",
   "execution_count": null,
   "metadata": {},
   "outputs": [],
   "source": [
    "import time\n",
    "\n",
    "# Define the training loop\n",
    "def train(model, device, train_loader, optimizer, epoch):\n",
    "    model.train()\n",
    "    for batch_idx, (data, target) in enumerate(train_loader):\n",
    "        def closure():\n",
    "            optimizer.zero_grad()\n",
    "            output = model(data)\n",
    "            loss = nn.CrossEntropyLoss()(output, target)\n",
    "            loss.backward()\n",
    "            return loss\n",
    "        data, target = data.to(device), target.to(device)\n",
    "        optimizer.step(closure)\n",
    "        if batch_idx % 10 == 0:\n",
    "            loss = closure()\n",
    "            print(f'Train Epoch: {epoch} [{batch_idx * len(data)}/{len(train_loader.dataset)} ({100. * batch_idx / len(train_loader):.0f}%)]\\tLoss: {loss.item():.6f}')\n",
    "\n",
    "start_time = time.time()\n",
    "for epoch in range(1, 6):\n",
    "    # train_lasso(model, device, train_loader, optimizer, epoch, lambda_l1=0.001)\n",
    "    train(model, device, train_loader, optimizer, epoch)\n",
    "    weight_manager.save_model(model, optimizer, epoch=epoch, dir_name=model_test, file_name=f'{model_test}_{epoch}_checkpoint.pth')\n",
    "end_time = time.time()\n",
    "print(f\"Training Time: {end_time - start_time}\")\n"
   ]
  },
  {
   "cell_type": "markdown",
   "metadata": {},
   "source": [
    "### 评估"
   ]
  },
  {
   "cell_type": "markdown",
   "metadata": {},
   "source": [
    "#### 读取所有权重文件测试"
   ]
  },
  {
   "cell_type": "code",
   "execution_count": null,
   "metadata": {},
   "outputs": [],
   "source": [
    "# Evaluate the model\n",
    "def evaluate(model, device, test_loader):\n",
    "    model.eval()\n",
    "    test_loss = 0\n",
    "    correct = 0\n",
    "    with torch.no_grad():\n",
    "        for data, target in test_loader:\n",
    "            data, target = data.to(device), target.to(device)\n",
    "            output = model(data)\n",
    "            test_loss += nn.CrossEntropyLoss()(output, target).item()\n",
    "            pred = output.argmax(dim=1, keepdim=True)\n",
    "            correct += pred.eq(target.view_as(pred)).sum().item()\n",
    "\n",
    "    test_loss /= len(test_loader.dataset)\n",
    "    print(f'\\nTest set: Average loss: {test_loss:.4f}, Accuracy: {correct}/{len(test_loader.dataset)} ({100. * correct / len(test_loader.dataset):.0f}%)\\n')\n",
    "\n",
    "\n",
    "\n",
    "pth_files = weight_manager.list_pth_files(dir_name=model_test)\n",
    "\n",
    "# Evaluate the trained model\n",
    "if pth_files:\n",
    "    print(\"Available .pth files:\")\n",
    "    for pth_file in pth_files:\n",
    "        print(f\"- {pth_file}\")\n",
    "    for pth_file in pth_files:\n",
    "        model, optimizer, start_epoch = weight_manager.load_model(model, optimizer, dir_name=f'{model_test}', file_name=f\"{pth_file}\", device=device)\n",
    "        \n",
    "        start_time = time.time()\n",
    "        evaluate(model, device, test_loader)\n",
    "        end_time = time.time()\n",
    "        print(f\"Inference Time: {end_time - start_time}\")\n",
    "\n",
    "# evaluate(model, device, test_loader)"
   ]
  }
 ],
 "metadata": {
  "language_info": {
   "name": "python"
  }
 },
 "nbformat": 4,
 "nbformat_minor": 2
}
